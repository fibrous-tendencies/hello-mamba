{
 "cells": [
  {
   "cell_type": "markdown",
   "metadata": {},
   "source": [
    "# Coding For Design II | Workshop 0 | Jan 22, 2025\n",
    "\n",
    "Today we will be going through an .ipynb file to get you started working with python outside of the rhino/grasshopper environment. \n",
    "\n",
    "An .ipynb file is a notebook that allows you to write code and run it cell by cell. This is a nice way to get further into working with python and is particularly useful for working with data as it lets you break down the problem into more manageable pieces and allows you to run code in a more interactive way. You can also have markdown cells that allow you to write text and add comments to your code or add in-line plots and graphs.\n",
    "\n",
    "To run code in a cell you can either click the play button in the toolbar or press shift + enter(win)/return(mac).\n",
    "\n",
    "At this point you should have already installed miniforge3 which will allow you to use mamba. However, you have not yet set up a mamba environment or installed any additional packages. You can think of a mamba environment as a box where you can install packages and python versions that are isolated from the rest of your computer. This is very useful when you are working on multiple projects that require different versions of python or packages. Without this you would have to install packages globally which can cause conflicts and unexpected behavior.\n",
    "\n",
    "To get started with setting up a new mamba environment you will need to open up a terminal in vscode. You can do this by clicking on the terminal button in the top left of the screen and selecting \"New Terminal\".\n",
    "\n",
    "Once you do this you should see a terminal window open up in the bottom of the screen. \n",
    "\n",
    "Before you do anything else, first you should check that you have correctly installed mamba. You can do this by running the following command in the terminal:\n",
    "\n",
    "```\n",
    "mamba\n",
    "```\n",
    "\n",
    "If you have installed mamba correctly you should see a list of commands that you can run that looks like this:\n",
    "\n",
    "![mamba-test](./figures/mamba-test.png)\n",
    "\n",
    "Next you can go ahead and create a new environment. You can create as many environments as you want. Each environment can have a different version of python and a different set of packages. It is good practice to create a new environment for each project you are working on. \n",
    "\n",
    "We will call the first environment \"C4D-II-WS0\" and we will install python version 3.10.\n",
    "\n",
    "To create a new environment you can run the following command in the terminal:\n",
    "\n",
    "```\n",
    "mamba create -n C4D-II-WS0 python=3.10\n",
    "```\n",
    "\n",
    "You will probably need to type Y to confirm the installation. This will create a new environment called \"C4D-II-WS0\" with python 3.10. \n",
    "\n",
    "Next you need to activate the environment you just created. You can do this by running the following command in the terminal:\n",
    "\n",
    "```\n",
    "mamba activate C4D-II-WS0\n",
    "```\n",
    "If you forget the name or exact spelling of the environment you can run the following command to see a list of all your environments:\n",
    "\n",
    "```\n",
    "mamba env list\n",
    "```\n",
    "\n",
    "Now that you have activated the environment you can go ahead and install the packages you need.\n",
    "\n",
    "First we will install numpy, pandas, and matplotlib, ipykernel. Again, in the terminal you can install packages by running the following command:\n",
    "\n",
    "```\n",
    "mamba install numpy pandas matplotlib ipykernel\n",
    "```\n",
    "This will install multiple packages at once.\n",
    "\n",
    "The final step before you can start running cells is to select the kernel for your notebook. This tells the notebook which environment to use to run the code. To select the kernel you can click on the kernel button in the top right of the vscode window that looks like this:\n",
    "\n",
    "![kernel-button](./figures/select-kernel.png)\n",
    "\n",
    "If you do not see the name of the environment you just created, you can click 'Select another kernel > Python Environments...\" and then select the one with the name of the correct environment.\n",
    "\n",
    "Now that you have installed some packages and selected the kernel for your notebook you can go ahead and run the following code in the terminal to install the packages in the environment you just created:\n"
   ]
  },
  {
   "cell_type": "code",
   "execution_count": 3,
   "metadata": {},
   "outputs": [],
   "source": [
    "import numpy as np\n",
    "import pandas as pd\n",
    "import matplotlib.pyplot as plt\n",
    "import pandas as pd"
   ]
  },
  {
   "cell_type": "markdown",
   "metadata": {},
   "source": [
    "Alright, it looks like nothing happened. Let's go ahead and try actually using some of the packages.\n",
    "\n",
    "We will start by creating a numpy array and then we will use matplotlib to plot it."
   ]
  },
  {
   "cell_type": "code",
   "execution_count": 2,
   "metadata": {},
   "outputs": [
    {
     "data": {
      "image/png": "[encoded data removed]",
      "text/plain": [
       "<Figure size 640x480 with 1 Axes>"
      ]
     },
     "metadata": {},
     "output_type": "display_data"
    }
   ],
   "source": [
    "array = np.array([1, 2, 3, 4, 5])\n",
    "plt.plot(array)\n",
    "plt.show()\n"
   ]
  },
  {
   "cell_type": "markdown",
   "metadata": {},
   "source": [
    "Very exciting! You just created a basic plot using matplotlib. Now let's do something a little more interesting. \n",
    "\n",
    "Now we will import a dataset from a csv file using pandas and then we will plot this data using matplotlib. "
   ]
  },
  {
   "cell_type": "code",
   "execution_count": 6,
   "metadata": {},
   "outputs": [],
   "source": [
    "data = pd.read_csv('data/data.csv', delimiter=' ')"
   ]
  },
  {
   "cell_type": "code",
   "execution_count": 8,
   "metadata": {},
   "outputs": [
    {
     "name": "stdout",
     "output_type": "stream",
     "text": [
      "       -0.06325  0.0359793  0.0420873  Unnamed: 3\n",
      "0      -0.06275   0.036034   0.042595         NaN\n",
      "1      -0.06450   0.036510   0.040436         NaN\n",
      "2      -0.06400   0.036619   0.041451         NaN\n",
      "3      -0.06350   0.036729   0.042466         NaN\n",
      "4      -0.06300   0.036784   0.042974         NaN\n",
      "...         ...        ...        ...         ...\n",
      "40250  -0.01675   0.187185  -0.020399         NaN\n",
      "40251  -0.01625   0.187190  -0.020939         NaN\n",
      "40252  -0.01575   0.187201  -0.022021         NaN\n",
      "40253  -0.01525   0.187218  -0.023778         NaN\n",
      "40254  -0.01800   0.187940  -0.019725         NaN\n",
      "\n",
      "[40255 rows x 4 columns]\n"
     ]
    }
   ],
   "source": [
    "print(data)"
   ]
  },
  {
   "cell_type": "code",
   "execution_count": null,
   "metadata": {},
   "outputs": [],
   "source": []
  }
 ],
 "metadata": {
  "kernelspec": {
   "display_name": "C4D-II",
   "language": "python",
   "name": "python3"
  },
  "language_info": {
   "codemirror_mode": {
    "name": "ipython",
    "version": 3
   },
   "file_extension": ".py",
   "mimetype": "text/x-python",
   "name": "python",
   "nbconvert_exporter": "python",
   "pygments_lexer": "ipython3",
   "version": "3.10.16"
  }
 },
 "nbformat": 4,
 "nbformat_minor": 2
}
