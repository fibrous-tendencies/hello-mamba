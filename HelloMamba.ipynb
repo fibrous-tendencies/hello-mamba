{
 "cells": [
  {
   "cell_type": "markdown",
   "metadata": {},
   "source": [
    "# Coding For Design II | Workshop 0 | Jan 22, 2025\n",
    "\n",
    "Today we will be going through an .ipynb file to get you started working with python outside of the rhino/grasshopper environment. This is just a very brief introduction.\n",
    "\n",
    "#### 1.1 | .ipynb (Jupyter Notebook)\n",
    "\n",
    "An .ipynb file is a notebook that allows you to write code and run it cell by cell. This is a nice way to get further into working with python and is particularly useful for working with data as it lets you break down the problem into more manageable pieces and allows you to run code in a more interactive way. You can also have markdown cells that allow you to write text and add comments to your code or add in-line plots and graphs.\n",
    "\n",
    "#### 1.2 | Environment Setup\n",
    "\n",
    "At this point you should have already installed miniforge3 which will allow you to use mamba. However, you have not yet set up a mamba environment or installed any additional packages. You can think of a mamba environment as a box where you can install packages and python versions that are isolated from the rest of your computer. This is very useful when you are working on multiple projects that require different versions of python or packages. Without this you would have to install packages globally which can cause conflicts and unexpected behavior.\n",
    "\n",
    "To get started with setting up a new mamba environment you will need to open up a terminal in vscode. You can do this by clicking on the terminal button in the top left of the screen and selecting \"New Terminal\".\n",
    "\n",
    "Once you do this you should see a terminal window open up in the bottom of the screen. \n",
    "\n",
    "Before you do anything else, first you should check that you have correctly installed mamba. You can do this by running the following command in the terminal:\n",
    "\n",
    "```\n",
    "mamba\n",
    "```\n",
    "\n",
    "If you have installed mamba correctly you should see a list of commands that you can run that looks like this:\n",
    "\n",
    "![mamba-test](./figures/mamba-test.png)\n",
    "\n",
    "Next you can go ahead and create a new environment. You can create as many environments as you want. Each environment can have a different version of python and a different set of packages. It is good practice to create a new environment for each project you are working on. \n",
    "\n",
    "We will call the first environment \"hello-mamba\" and we will install python version 3.10.\n",
    "\n",
    "To create a new environment you can run the following command in the terminal:\n",
    "\n",
    "```\n",
    "mamba create -n hello-mamba python=3.10\n",
    "```\n",
    "\n",
    "You will probably need to type Y to confirm the installation. This will create a new environment called \"hello-mamba\" with python 3.10. \n",
    "\n",
    "Next you need to activate the environment you just created. You can do this by running the following command in the terminal:\n",
    "\n",
    "```\n",
    "mamba activate hello-mamba\n",
    "```\n",
    "If you forget the name or exact spelling of the environment you can run the following command to see a list of all your environments:\n",
    "\n",
    "```\n",
    "mamba env list\n",
    "```\n",
    "#### 1.3 | Installing Additional Packages\n",
    "\n",
    "Now that you have activated the environment you can go ahead and install the packages you need. We will be using a variety of new packages this semester. You will start by installing few useful ones for data manipulation and visualization.\n",
    "\n",
    "First we will install [numpy](https://numpy.org/), [pandas](https://pandas.pydata.org/), [matplotlib](https://matplotlib.org/), [plotly](https://plotly.com/python/), nbformat, and [ipykernel](https://ipython.readthedocs.io/en/latest/). Again, in the terminal you can install packages by running the following command:\n",
    "\n",
    "```\n",
    "mamba install numpy pandas matplotlib plotly nbformat ipykernel\n",
    "```\n",
    "This will install multiple packages at once.\n",
    "\n",
    "If you want to take a look at the packages that are already installed in your environment you can run the following command:\n",
    "\n",
    "```\n",
    "mamba list\n",
    "```\n",
    "\n",
    "#### 1.4 | Selecting a Kernel\n",
    "\n",
    "The final step before you can start running cells is to select the kernel for your notebook. This tells the notebook which environment to use to run the code. To select the kernel you can click on the kernel button in the top right of the vscode window that looks like this:\n",
    "\n",
    "![kernel-button](figures/select-kernel.png)\n",
    "\n",
    "If you do not see the name of the environment you just created, you can click 'Select another kernel > Python Environments...\" and then select the one with the name of the correct environment.\n",
    "\n",
    "Now that you have installed some packages and selected the kernel for your notebook you can go ahead and run the code in the cell below.\n",
    "\n",
    "#### 1.5 | Run code\n",
    "\n",
    "To run code in a cell you can either click the play button in the toolbar or press shift + enter(win)/return(mac).\n"
   ]
  },
  {
   "cell_type": "code",
   "execution_count": 1,
   "metadata": {},
   "outputs": [],
   "source": [
    "# First we will import the numpy, pandas, plotly, and matplotlib packages \n",
    "# and give them the aliases np, pd, px, and plt respectively.\n",
    "import numpy as np\n",
    "import pandas as pd\n",
    "import plotly.express as px\n",
    "import matplotlib.pyplot as plt"
   ]
  },
  {
   "cell_type": "markdown",
   "metadata": {},
   "source": [
    "Alright, it looks like nothing happened. Let's go ahead and try actually using some of the packages."
   ]
  },
  {
   "cell_type": "markdown",
   "metadata": {},
   "source": [
    "#### 2.1 | Create an Array\n",
    "\n",
    "We will start by creating a numpy array and then we will use matplotlib to plot it. An array is a new type of data container. A single dimensional array (as show below) is the same thing as a vector. A two dimensional array is the same as a matrix. Arrays can have arbitrary numbers of dimensions, however we won't get into higher dimensional arrays yet."
   ]
  },
  {
   "cell_type": "code",
   "execution_count": null,
   "metadata": {},
   "outputs": [],
   "source": [
    "#Create a numpy array using the np.array() function.\n",
    "array = np.array([1, 3, 2, 5, 4])\n",
    "#Plot the array using the plt.plot() function.\n",
    "plt.plot(array)\n",
    "#Show the plot using the plt.show() function.\n",
    "plt.show()\n"
   ]
  },
  {
   "cell_type": "markdown",
   "metadata": {},
   "source": [
    "Very exciting! You just created a basic plot using matplotlib. Now let's do something a little more interesting. "
   ]
  },
  {
   "cell_type": "markdown",
   "metadata": {},
   "source": [
    "#### 2.2 | Import CSV using Pandas\n",
    "\n",
    "Now we will import a dataset from a csv file using pandas and then we will plot this data using plotly. \n",
    "\n",
    "Pandas is a library for manipulating tabular data. It has lots of functions for manipulating and filtering datasets. We will be using it throughout the course. \n"
   ]
  },
  {
   "cell_type": "code",
   "execution_count": null,
   "metadata": {},
   "outputs": [],
   "source": [
    "#First we will import the data from a csv file into a pandas dataframe using the pd.read_csv() function.\n",
    "#A dataframe is a python object that allows you to store and manipulate data in a tabular format.\n",
    "df = pd.read_csv('data/data.csv', names=['x', 'y', 'z'], header=None)\n",
    "\n",
    "#Now we will print the first 5 rows of the dataframe using the .head() function.\n",
    "print(df.head()) #This is how you can print the first 5 rows of a dataframe."
   ]
  },
  {
   "cell_type": "markdown",
   "metadata": {},
   "source": [
    "Notice that the dataframe has three columns: x, y, and z. The x, y, and z columns represent the x, y, and z coordinates of the data respectively. The csv file did not contain any header information so we had to specify the names of the columns using the names parameter and the header=None parameter."
   ]
  },
  {
   "cell_type": "markdown",
   "metadata": {},
   "source": [
    "### 2.3 | Plotting the data using plotly.express\n",
    "\n",
    "Plotly is a graphing library that has a wide array of features that are useful for making 2d and 3d plots of various types. We will also be using plotly extensively in the rest of the course. It has a few sub-flavors. In this case we will be using plotly.express.\n",
    "\n",
    "Here we will make an interactive 3d plot of the data using plotly.express which has been imported as px."
   ]
  },
  {
   "cell_type": "code",
   "execution_count": null,
   "metadata": {},
   "outputs": [],
   "source": [
    "#Create a figure object using the px.scatter_3d() function.\n",
    "fig = px.scatter_3d(df, x='x', y='y', z='z', color='z')\n",
    "#Show the plot using the fig.show() function.\n",
    "fig.show()"
   ]
  },
  {
   "cell_type": "markdown",
   "metadata": {},
   "source": [
    "Congratulations! You have made it to the end of the setup process and have created a few basic plots. In the coming weeks we will be going through more advanced topics using a combination of python noteboosk, python scripts, as well as some work using more complex python code in the context of grasshopper and rhinoceros."
   ]
  }
 ],
 "metadata": {
  "kernelspec": {
   "display_name": "C4D-II",
   "language": "python",
   "name": "python3"
  },
  "language_info": {
   "codemirror_mode": {
    "name": "ipython",
    "version": 3
   },
   "file_extension": ".py",
   "mimetype": "text/x-python",
   "name": "python",
   "nbconvert_exporter": "python",
   "pygments_lexer": "ipython3",
   "version": "3.10.16"
  }
 },
 "nbformat": 4,
 "nbformat_minor": 2
}
